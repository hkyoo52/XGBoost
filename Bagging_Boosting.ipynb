{
 "cells": [
  {
   "cell_type": "code",
   "execution_count": 3,
   "metadata": {},
   "outputs": [
    {
     "name": "stdout",
     "output_type": "stream",
     "text": [
      "Windows-10-10.0.22000-SP0\n",
      "python 3.10.4 (tags/v3.10.4:9d38120, Mar 23 2022, 23:13:41) [MSC v.1929 64 bit (AMD64)]\n",
      "Numpy 1.22.3\n",
      "SciPy 1.8.1\n",
      "Scikit-Learn 1.1.1\n",
      "xgboost 1.6.1\n"
     ]
    }
   ],
   "source": [
    "import platform; print(platform.platform())\n",
    "import sys; print('python',sys.version)\n",
    "import numpy; print('Numpy', numpy.__version__)\n",
    "import scipy; print('SciPy', scipy.__version__)\n",
    "import sklearn; print('Scikit-Learn', sklearn.__version__)\n",
    "import xgboost; print('xgboost', xgboost.__version__)"
   ]
  },
  {
   "cell_type": "code",
   "execution_count": null,
   "metadata": {},
   "outputs": [],
   "source": []
  }
 ],
 "metadata": {
  "kernelspec": {
   "display_name": "Python 3.10.4 64-bit",
   "language": "python",
   "name": "python3"
  },
  "language_info": {
   "codemirror_mode": {
    "name": "ipython",
    "version": 3
   },
   "file_extension": ".py",
   "mimetype": "text/x-python",
   "name": "python",
   "nbconvert_exporter": "python",
   "pygments_lexer": "ipython3",
   "version": "3.10.4"
  },
  "orig_nbformat": 4,
  "vscode": {
   "interpreter": {
    "hash": "922e4421b7ea41e20e7cdab675b37a8753bdbe036f33d633b11564e54465d669"
   }
  }
 },
 "nbformat": 4,
 "nbformat_minor": 2
}
